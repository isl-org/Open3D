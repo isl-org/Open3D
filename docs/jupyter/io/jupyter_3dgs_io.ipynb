{
 "cells": [
  {
   "cell_type": "code",
   "execution_count": 3,
   "metadata": {},
   "outputs": [],
   "source": [
    "import open3d as o3d"
   ]
  },
  {
   "cell_type": "markdown",
   "metadata": {},
   "source": [
    "# 3DGS IO\n",
    "\n",
    "In this tutorial, we delve into the Point Cloud's capabilities of Open3D, with a particular focus on handling 3D Gaussian splats (3DGS) files, such as `.ply` and `.splat` formats. This tutorial will guide you through the process of loading, visualizing, and manipulating 3D Gaussian splats using Open3D.\n",
    "\n",
    "The data format for the 3DGS representation is the following:\n",
    "* `pcd.point[‘positions’]` (N,3) – (x,y,z) for each splat.\n",
    "* `pcd.point[‘opacity’]` – (N,) opacity\n",
    "* `pcd.point[‘rot’]` (N, 4) - quaternion rotation of Gaussian.\n",
    "* `pcd.point[‘scale']` (N, 3) - x, y, z scales for Gaussian.\n",
    "* `pcd.point[‘f_dc’]` (N, 3) – DC components for RGB colors.\n",
    "* `pcd.point[‘f_rest’]` (N, Nc, 3) – SH coeffs for RGB colors. (Nc = 3, 8 or 15)\n",
    "\n",
    "## PLY files"
   ]
  },
  {
   "cell_type": "code",
   "execution_count": null,
   "metadata": {},
   "outputs": [],
   "source": [
    "splats = o3d.t.io.read_point_cloud('files/point_cloud_29999_only_table.ply')"
   ]
  },
  {
   "cell_type": "markdown",
   "metadata": {},
   "source": [
    "## SPLAT files"
   ]
  },
  {
   "cell_type": "code",
   "execution_count": null,
   "metadata": {},
   "outputs": [],
   "source": [
    "splats = o3d.t.io.read_point_cloud('files/point_cloud_sampled_only_table.splat')"
   ]
  }
 ],
 "metadata": {
  "kernelspec": {
   "display_name": "Python 3",
   "language": "python",
   "name": "python3"
  },
  "language_info": {
   "codemirror_mode": {
    "name": "ipython",
    "version": 3
   },
   "file_extension": ".py",
   "mimetype": "text/x-python",
   "name": "python",
   "nbconvert_exporter": "python",
   "pygments_lexer": "ipython3",
   "version": "3.10.15"
  }
 },
 "nbformat": 4,
 "nbformat_minor": 2
}
